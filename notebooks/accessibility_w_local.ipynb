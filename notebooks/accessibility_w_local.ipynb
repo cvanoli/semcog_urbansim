{
 "cells": [
  {
   "cell_type": "code",
   "execution_count": 1,
   "metadata": {},
   "outputs": [],
   "source": [
    "import pandas as pd\n",
    "import pandana as pdna\n",
    "import time"
   ]
  },
  {
   "cell_type": "code",
   "execution_count": 2,
   "metadata": {},
   "outputs": [],
   "source": [
    "h5store=pd.HDFStore('./semcog_modelnetwork.h5', 'r')\n",
    "\n",
    "nodes=h5store['nodes']\n",
    "edges=h5store['edges']\n",
    "local_nodes=h5store['local_nodes']\n",
    "local_edges=h5store['local_edges']\n",
    "local_nodes.index.name = None\n"
   ]
  },
  {
   "cell_type": "code",
   "execution_count": 3,
   "metadata": {},
   "outputs": [
    {
     "data": {
      "text/html": [
       "<div style=\"max-height:1000px;max-width:1500px;overflow:auto;\">\n",
       "<table border=\"1\" class=\"dataframe\">\n",
       "  <thead>\n",
       "    <tr style=\"text-align: right;\">\n",
       "      <th></th>\n",
       "      <th>x</th>\n",
       "      <th>y</th>\n",
       "    </tr>\n",
       "  </thead>\n",
       "  <tbody>\n",
       "    <tr>\n",
       "      <th>0</th>\n",
       "      <td> 13346525.879059</td>\n",
       "      <td> 154723.189589</td>\n",
       "    </tr>\n",
       "    <tr>\n",
       "      <th>1</th>\n",
       "      <td> 13384847.597622</td>\n",
       "      <td> 473030.195992</td>\n",
       "    </tr>\n",
       "  </tbody>\n",
       "</table>\n",
       "</div>"
      ],
      "text/plain": [
       "                 x              y\n",
       "0  13346525.879059  154723.189589\n",
       "1  13384847.597622  473030.195992"
      ]
     },
     "execution_count": 3,
     "metadata": {},
     "output_type": "execute_result"
    }
   ],
   "source": [
    "local_nodes.head(2)"
   ]
  },
  {
   "cell_type": "code",
   "execution_count": 4,
   "metadata": {},
   "outputs": [],
   "source": [
    "pdna.network.reserve_num_graphs(2)"
   ]
  },
  {
   "cell_type": "code",
   "execution_count": 5,
   "metadata": {},
   "outputs": [],
   "source": [
    "#build full network\n",
    "net_full=pdna.Network(nodes[\"x\"], nodes[\"y\"], edges[\"from\"], edges[\"to\"],edges[[\"weight\"]])\n",
    "net_full.precompute(30)"
   ]
  },
  {
   "cell_type": "code",
   "execution_count": 6,
   "metadata": {},
   "outputs": [],
   "source": [
    "#build local network\n",
    "net_local=pdna.Network(local_nodes[\"x\"], local_nodes[\"y\"], local_edges[\"from\"], local_edges[\"to\"],local_edges[[\"weight\"]])\n",
    "net_local.precompute(30)"
   ]
  },
  {
   "cell_type": "code",
   "execution_count": 8,
   "metadata": {},
   "outputs": [],
   "source": [
    "#get parcels from data\n",
    "pstore=pd.HDFStore('../data/semcog_data.h5','r')\n",
    "parcels=pstore.parcels"
   ]
  },
  {
   "cell_type": "code",
   "execution_count": 11,
   "metadata": {},
   "outputs": [
    {
     "name": "stdout",
     "output_type": "stream",
     "text": [
      "2.6736638546\n"
     ]
    }
   ],
   "source": [
    "t1=time.time()\n",
    "x, y = parcels.centroid_x, parcels.centroid_y\n",
    "parcels[\"node_ids\"] = net_local.get_node_ids(x, y)\n",
    "print time.time()-t1"
   ]
  },
  {
   "cell_type": "code",
   "execution_count": 14,
   "metadata": {},
   "outputs": [
    {
     "data": {
      "text/html": [
       "<div style=\"max-height:1000px;max-width:1500px;overflow:auto;\">\n",
       "<table border=\"1\" class=\"dataframe\">\n",
       "  <thead>\n",
       "    <tr style=\"text-align: right;\">\n",
       "      <th></th>\n",
       "      <th>agri_land</th>\n",
       "      <th>centroid_x</th>\n",
       "      <th>centroid_y</th>\n",
       "      <th>city_id</th>\n",
       "      <th>county_id</th>\n",
       "      <th>dist_hwy</th>\n",
       "      <th>dist_road</th>\n",
       "      <th>floodprone</th>\n",
       "      <th>land_use_type_id</th>\n",
       "      <th>land_value</th>\n",
       "      <th>...</th>\n",
       "      <th>plan_type_id</th>\n",
       "      <th>plannew</th>\n",
       "      <th>pptytax</th>\n",
       "      <th>repm_id</th>\n",
       "      <th>school_district_id</th>\n",
       "      <th>sewer2010</th>\n",
       "      <th>sewer2015</th>\n",
       "      <th>sewer2025</th>\n",
       "      <th>zone_id</th>\n",
       "      <th>node_ids</th>\n",
       "    </tr>\n",
       "    <tr>\n",
       "      <th>parcel_id</th>\n",
       "      <th></th>\n",
       "      <th></th>\n",
       "      <th></th>\n",
       "      <th></th>\n",
       "      <th></th>\n",
       "      <th></th>\n",
       "      <th></th>\n",
       "      <th></th>\n",
       "      <th></th>\n",
       "      <th></th>\n",
       "      <th></th>\n",
       "      <th></th>\n",
       "      <th></th>\n",
       "      <th></th>\n",
       "      <th></th>\n",
       "      <th></th>\n",
       "      <th></th>\n",
       "      <th></th>\n",
       "      <th></th>\n",
       "      <th></th>\n",
       "      <th></th>\n",
       "    </tr>\n",
       "  </thead>\n",
       "  <tbody>\n",
       "  </tbody>\n",
       "</table>\n",
       "<p>0 rows × 23 columns</p>\n",
       "</div>"
      ],
      "text/plain": [
       "Empty DataFrame\n",
       "Columns: [agri_land, centroid_x, centroid_y, city_id, county_id, dist_hwy, dist_road, floodprone, land_use_type_id, land_value, large_area_id, parcel_sqft, plan_id, plan_type_id, plannew, pptytax, repm_id, school_district_id, sewer2010, sewer2015, sewer2025, zone_id, node_ids]\n",
       "Index: []\n",
       "\n",
       "[0 rows x 23 columns]"
      ]
     },
     "execution_count": 14,
     "metadata": {},
     "output_type": "execute_result"
    }
   ],
   "source": [
    "parcels[parcels[\"node_ids\"] ==40]"
   ]
  },
  {
   "cell_type": "code",
   "execution_count": 16,
   "metadata": {},
   "outputs": [],
   "source": [
    "net_full.set(parcels['node_ids'], variable=parcels.land_value, name=\"landv\")\n",
    "ave_landv = net_full.aggregate(10, type=\"ave\", decay=\"flat\",name=\"landv\")"
   ]
  },
  {
   "cell_type": "code",
   "execution_count": 17,
   "metadata": {},
   "outputs": [
    {
     "data": {
      "text/html": [
       "<div style=\"max-height:1000px;max-width:1500px;overflow:auto;\">\n",
       "<table border=\"1\" class=\"dataframe\">\n",
       "  <thead>\n",
       "    <tr style=\"text-align: right;\">\n",
       "      <th></th>\n",
       "      <th>landv</th>\n",
       "    </tr>\n",
       "  </thead>\n",
       "  <tbody>\n",
       "    <tr>\n",
       "      <th>0</th>\n",
       "      <td> 54198.812500</td>\n",
       "    </tr>\n",
       "    <tr>\n",
       "      <th>1</th>\n",
       "      <td> 35931.761719</td>\n",
       "    </tr>\n",
       "    <tr>\n",
       "      <th>2</th>\n",
       "      <td> 60104.644531</td>\n",
       "    </tr>\n",
       "    <tr>\n",
       "      <th>3</th>\n",
       "      <td> 52621.308594</td>\n",
       "    </tr>\n",
       "    <tr>\n",
       "      <th>4</th>\n",
       "      <td> 45234.644531</td>\n",
       "    </tr>\n",
       "  </tbody>\n",
       "</table>\n",
       "</div>"
      ],
      "text/plain": [
       "          landv\n",
       "0  54198.812500\n",
       "1  35931.761719\n",
       "2  60104.644531\n",
       "3  52621.308594\n",
       "4  45234.644531"
      ]
     },
     "execution_count": 17,
     "metadata": {},
     "output_type": "execute_result"
    }
   ],
   "source": [
    "df_out=pd.DataFrame(ave_landv,columns=[\"landv\"])\n",
    "df_out.head()"
   ]
  },
  {
   "cell_type": "code",
   "execution_count": 19,
   "metadata": {},
   "outputs": [],
   "source": [
    "pd.merge(parcels, df_out, left_on=\"node_ids\", right_index=True, how='left').to_csv('result.csv')"
   ]
  },
  {
   "cell_type": "code",
   "execution_count": 4,
   "metadata": {},
   "outputs": [],
   "source": [
    "##spatial join using rtree\n",
    "\n",
    "# from rtree import index\n",
    "# indx = index.Index()\n",
    "\n",
    "# #get local nodes and insert into spatial index\n",
    "# df_local=h5store.local_nodes\n",
    "# for nid, x,y in zip(df_local.index.values,df_local['x'],df_local['y']):\n",
    "#     indx.insert(nid, (x, y))\n",
    "\n",
    "# # nearest neighbor search for all parcels\n",
    "# nodelist=[]\n",
    "# for x,y in zip(parcels.centroid_x,parcels.centroid_y):\n",
    "#     nodelist.append(list(indx.nearest((x,y), 1))[0])      \n",
    "\n",
    "# parcels['node_ids']=pd.Series(nodelist,index=parcels.index)"
   ]
  },
  {
   "cell_type": "code",
   "execution_count": null,
   "metadata": {},
   "outputs": [],
   "source": []
  }
 ],
 "metadata": {
  "kernelspec": {
   "display_name": "Python 3",
   "language": "python",
   "name": "python3"
  },
  "language_info": {
   "codemirror_mode": {
    "name": "ipython",
    "version": 3
   },
   "file_extension": ".py",
   "mimetype": "text/x-python",
   "name": "python",
   "nbconvert_exporter": "python",
   "pygments_lexer": "ipython3",
   "version": "3.6.6"
  }
 },
 "nbformat": 4,
 "nbformat_minor": 1
}
